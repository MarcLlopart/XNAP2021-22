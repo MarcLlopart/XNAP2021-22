{
 "cells": [
  {
   "cell_type": "markdown",
   "metadata": {},
   "source": [
    "# Week 1 - Revision"
   ]
  },
  {
   "cell_type": "markdown",
   "metadata": {},
   "source": [
    "## 1.1 Linear Regression\n",
    "\n",
    "During the lecture we used a running example of house prices. This dataset is known as the \"house prices\" dataset. The task to be done is to predict the price of a house given some 'features' of the house. Our input data comprises two features per sample (size of the house, and number of rooms), while the output data is the price of each sample.\n",
    "\n",
    "Here is the data:\n",
    "\n",
    "| Size (square feet) | Rooms | Price (USD) |Size (square feet) | Rooms | Price (USD) |Size (square feet) | Rooms | Price (USD) |Size (square feet) | Rooms | Price (USD) |\n",
    "|:------ |:----|:----------|:------ |:----|:----------|:------ |:----|:----------|:------ |:----|:----------|\n",
    "| 2104.0 | 3.0 |  **399900.0** | 1890.0 | 3.0 |  **329999.0** | 3890.0 | 3.0 |  **573900.0** | 1239.0 | 3.0 |  **229900.0** |\n",
    "| 1600.0 | 3.0 |  **329900.0** | 4478.0 | 5.0 |  **699900.0** | 1100.0 | 3.0 |  **249900.0** | 2132.0 | 4.0 |  **345000.0** |\n",
    "| 2400.0 | 3.0 |  **369000.0** | 1268.0 | 3.0 |  **259900.0** | 1458.0 | 3.0 |  **464500.0** | 4215.0 | 4.0 |  **549000.0** | \n",
    "| 1416.0 | 2.0 |  **232000.0** | 2300.0 | 4.0 |  **449900.0** | 2526.0 | 3.0 |  **469000.0** | 2162.0 | 4.0 |  **287000.0** |\n",
    "| 3000.0 | 4.0 |  **539900.0** | 1320.0 | 2.0 |  **299900.0** | 2200.0 | 3.0 |  **475000.0** | 1664.0 | 2.0 |  **368500.0** | \n",
    "| 1985.0 | 4.0 |  **299900.0** | 1236.0 | 3.0 |  **199900.0** | 2637.0 | 3.0 |  **299900.0** | 2238.0 | 3.0 |  **329900.0** | \n",
    "| 1534.0 | 3.0 |  **314900.0** | 2609.0 | 4.0 |  **499998.0** | 1839.0 | 2.0 |  **349900.0** | 2567.0 | 4.0 |  **314000.0** | \n",
    "| 1427.0 | 3.0 |  **198999.0** | 3031.0 | 4.0 |  **599000.0** | 1000.0 | 1.0 |  **169900.0** | 1200.0 | 3.0 |  **299000.0** | \n",
    "| 1380.0 | 3.0 |  **212000.0** | 1767.0 | 3.0 |  **252900.0** | 2040.0 | 4.0 |  **314900.0** | 852.0  | 2.0 |  **179900.0** | \n",
    "| 1494.0 | 3.0 |  **242500.0** | 1888.0 | 2.0 |  **255000.0** | 3137.0 | 3.0 |  **579900.0** | 1852.0 | 4.0 |  **299900.0** | \n",
    "| 1940.0 | 4.0 |  **239999.0** | 1604.0 | 3.0 |  **242900.0** | 1811.0 | 4.0 |  **285900.0** | 1203.0 | 3.0 |  **239500.0** | \n",
    "| 2000.0 | 3.0 |  **347000.0** | 1962.0 | 4.0 |  **259900.0** | 1437.0 | 3.0 |  **249900.0** | \n",
    " \n",
    "Let's first get them into Python. For simplification we are going to use only one feature for the time being - the size of the house."
   ]
  },
  {
   "cell_type": "code",
   "execution_count": 2,
   "metadata": {},
   "outputs": [],
   "source": [
    "import numpy as np\n",
    "import matplotlib.pyplot as plt"
   ]
  },
  {
   "cell_type": "code",
   "execution_count": 3,
   "metadata": {},
   "outputs": [],
   "source": [
    "size = np.array([2104., 1600., 2400., 1416., 3000., 1985., 1534., 1427., 1380., \n",
    "       1494., 1940., 2000., 1890., 4478., 1268., 2300., 1320., 1236.,\n",
    "       2609., 3031., 1767., 1888., 1604., 1962., 3890., 1100., 1458.,\n",
    "       2526., 2200., 2637., 1839., 1000., 2040., 3137., 1811., 1437.,\n",
    "       1239., 2132., 4215., 2162., 1664., 2238., 2567., 1200.,  852.,\n",
    "       1852., 1203.])\n",
    "\n",
    "rooms = np.array([3., 3., 3., 2., 4., 4., 3., 3., 3., 3., 4., 3., 3., 5., 3., 4., 2.,\n",
    "       3., 4., 4., 3., 2., 3., 4., 3., 3., 3., 3., 3., 3., 2., 1., 4., 3.,\n",
    "       4., 3., 3., 4., 4., 4., 2., 3., 4., 3., 2., 4., 3.])\n",
    "\n",
    "price = np.array([399900., 329900., 369000., 232000., 539900., 299900., 314900.,\n",
    "       198999., 212000., 242500., 239999., 347000., 329999., 699900.,\n",
    "       259900., 449900., 299900., 199900., 499998., 599000., 252900.,\n",
    "       255000., 242900., 259900., 573900., 249900., 464500., 469000.,\n",
    "       475000., 299900., 349900., 169900., 314900., 579900., 285900.,\n",
    "       249900., 229900., 345000., 549000., 287000., 368500., 329900.,\n",
    "       314000., 299000., 179900., 299900., 239500.])"
   ]
  },
  {
   "cell_type": "markdown",
   "metadata": {},
   "source": [
    "First, let's see what we have"
   ]
  },
  {
   "cell_type": "code",
   "execution_count": 4,
   "metadata": {
    "collapsed": false,
    "jupyter": {
     "outputs_hidden": false
    }
   },
   "outputs": [
    {
     "name": "stdout",
     "output_type": "stream",
     "text": [
      "We have been given 47 samples\n"
     ]
    },
    {
     "data": {
      "image/png": "[encoded data removed]",
      "text/plain": [
       "<Figure size 432x288 with 1 Axes>"
      ]
     },
     "metadata": {
      "needs_background": "light"
     },
     "output_type": "display_data"
    }
   ],
   "source": [
    "m = len(size)\n",
    "print(\"We have been given {} samples\".format(m))\n",
    "\n",
    "# Plot sample points (price vs size)\n",
    "plt.plot(size, price, 'o')\n",
    "plt.title('House Prices')\n",
    "plt.xlabel('House Size (square feet)')\n",
    "plt.ylabel('House Price ($)')\n",
    "plt.show()"
   ]
  },
  {
   "cell_type": "markdown",
   "metadata": {},
   "source": [
    "We want to automatically find a model to predict prices $y$ for houses that are not in our dataset. In linear regression, the model $f$ is a linear function of the input data ($x$, in our case the house size):\n",
    "\n",
    "> $f_w(x) = w_0 + w_1 x$\n",
    "\n",
    "For this we need to choose the parameters $w_i$ minimizing a cost function $J$ e.g. the average squared difference between the predictions ($f_w$) and the real prices ($y$) in our training data:\n",
    "\n",
    "> $\\hat{w} = \\underset{w}{\\text{minimize}} {1 \\over 2m} \\sum_{i=1}^m{(f_w(x^{(i)}) - y^{(i)})^2}$\n",
    "\n",
    "where $(x^{(i)},y^{(i)})$ is the i-th training sample, and $m$ is the number of samples in our training set.\n",
    "\n",
    "This optimization problem can be solved in different ways, in this example we are going to implement the Gradient Descent algorithm. In pseudo-code the Gradient Descent algorithm is formalized as follows:\n",
    "\n",
    "repeat until convergence:\n",
    "\n",
    "> {\n",
    "> \n",
    "> $w_j := w_j - \\alpha \\frac{\\partial}{\\partial w_j} J(w)$ (for all j)\n",
    ">\n",
    "> }\n",
    "\n",
    "where $\\alpha$ is the learning rate, and the partial derivative (the gradient) of the cost function is given by (generic expression):\n",
    "\n",
    "> $\\frac{\\partial}{\\partial w_j} J(w) = {1 \\over m} \\sum_{i=1}^m{(f_w(x^{(i)}) - y^{(i)}) x_j^{(i)}}$\n",
    "\n",
    "In our case, the partial derivatives for $w_0$ and $w_1$ are:\n",
    "\n",
    "> $\\frac{\\partial}{\\partial w_0} J(w) = {1 \\over m} \\sum_{i=1}^m{(f_w(x^{(i)}) - y^{(i)})}$\n",
    "\n",
    "> $\\frac{\\partial}{\\partial w_1} J(w) = {1 \\over m} \\sum_{i=1}^m{(f_w(x^{(i)}) - y^{(i)}) x^{(i)}}$\n",
    "\n",
    "Let's see a first (very inefficient, but quite explicit) version of the Gradient Descent algorithm in Python:"
   ]
  },
  {
   "cell_type": "code",
   "execution_count": 5,
   "metadata": {},
   "outputs": [],
   "source": [
    "def GradientDescent(x, y, max_iterations=100, lr=0.01):\n",
    "    m = len(x) # number of samples\n",
    "    J = np.zeros(max_iterations)\n",
    "   \n",
    "    #initialize the parameters to zero (or any other random value)\n",
    "    w0 = 0\n",
    "    w1 = 0\n",
    "    \n",
    "    for it in range(max_iterations): #lets take a max of max_iteration steps updating the parameters\n",
    "        s0 = 0 # We will use this to calculate the sum of derivatives over the different samples\n",
    "        s1 = 0\n",
    "        for i in range(m): #Go over the points and calculate the sum\n",
    "            f = w0 + w1 * x[i]\n",
    "            s0 = s0 + (f - y[i])\n",
    "            s1 = s1 + (f - y[i])* x[i]\n",
    "            J[it] = J[it]+(f - y[i])**2\n",
    "        Grad0 = s0 / m # Now get the average\n",
    "        Grad1 = s1 / m \n",
    "        J[it] /= 2*m\n",
    "        \n",
    "        w0 = w0 - lr * Grad0\n",
    "        w1 = w1 - lr * Grad1\n",
    "        \n",
    "    return [w0, w1], J"
   ]
  },
  {
   "cell_type": "code",
   "execution_count": 6,
   "metadata": {},
   "outputs": [
    {
     "name": "stdout",
     "output_type": "stream",
     "text": [
      "Estimated weights: [0.08050805332714407, 163.9249033496211]\n"
     ]
    },
    {
     "data": {
      "image/png": "[encoded data removed]",
      "text/plain": [
       "<Figure size 432x288 with 1 Axes>"
      ]
     },
     "metadata": {
      "needs_background": "light"
     },
     "output_type": "display_data"
    }
   ],
   "source": [
    "# Run gradient descent on our data\n",
    "w, J = GradientDescent(x = size, y = price, max_iterations=100, lr=0.00000001)\n",
    "\n",
    "print(\"Estimated weights:\", w)\n",
    "plt.plot(np.arange(len(J)), J, 'bo')\n",
    "plt.show()"
   ]
  },
  {
   "cell_type": "markdown",
   "metadata": {},
   "source": [
    "Do a scatter plot of our data points and plot the linear function we fit using the weights that we calculated"
   ]
  },
  {
   "cell_type": "code",
   "execution_count": 7,
   "metadata": {},
   "outputs": [
    {
     "data": {
      "image/png": "[encoded data removed]",
      "text/plain": [
       "<Figure size 432x288 with 1 Axes>"
      ]
     },
     "metadata": {
      "needs_background": "light"
     },
     "output_type": "display_data"
    }
   ],
   "source": [
    "# Plot sample points.\n",
    "plt.plot(size, price,'o') # plot dots ('o') for each sample (house size, house price)\n",
    "plt.title('House Prices')\n",
    "plt.xlabel('House Size (normalized)')\n",
    "plt.ylabel('House Price ($)')\n",
    "\n",
    "# Plot line f = w0 + w1 * x\n",
    "xx = range(int(min(size)),int(max(size)))\n",
    "yy = [w[0] + w[1] * x for x in xx]\n",
    "plt.plot(xx,yy)\n",
    "plt.show()"
   ]
  },
  {
   "cell_type": "markdown",
   "metadata": {},
   "source": [
    "<br>\n",
    "\n",
    "<font color=blue>**Exercise:** Use the model you have calculated to predict the price of a house with `size = 3200` square feet.</font>"
   ]
  },
  {
   "cell_type": "code",
   "execution_count": 8,
   "metadata": {},
   "outputs": [],
   "source": [
    "# Your Code Here #\n"
   ]
  },
  {
   "cell_type": "markdown",
   "metadata": {},
   "source": [
    "<font color=blue>**Exercise:** Use the above function with different initial values for the weights. What do you observe?</font>"
   ]
  },
  {
   "cell_type": "markdown",
   "metadata": {},
   "source": [
    "---\n",
    "\n",
    "*Answer*\n",
    "\n",
    "...\n",
    "\n",
    "---\n"
   ]
  },
  {
   "cell_type": "markdown",
   "metadata": {},
   "source": [
    "<font color=blue>**Exercise:** Now normalise your data and do the gradient descent again. Adjust the number of iterations and the learning rate as you see fit. What do you observe in terms of the learning rate required? What do you observe in terms of the final values obtained for the weights?</font>"
   ]
  },
  {
   "cell_type": "code",
   "execution_count": 9,
   "metadata": {},
   "outputs": [],
   "source": [
    "# Your Code Here #\n"
   ]
  },
  {
   "cell_type": "markdown",
   "metadata": {},
   "source": [
    "---\n",
    "\n",
    "*Answer*\n",
    "\n",
    "The learning rate does not need to be so small anymore. We can now find a \"reasonable\" value for the learning rate.\n",
    "\n",
    "The initial value for $w_0$ is not so important anymore, the learning rate works for both weights.\n",
    "\n",
    "The weight values we obtain are very different than before (much larger)\n",
    "\n",
    "---"
   ]
  },
  {
   "cell_type": "markdown",
   "metadata": {},
   "source": [
    "<font color=blue>**Exercise:** Do a scatter plot of your data and a plot of the line you just estimaged. Then use the model you have calculated to predict the price of a house with size = 3200 square feet. </font>"
   ]
  },
  {
   "cell_type": "code",
   "execution_count": 10,
   "metadata": {},
   "outputs": [],
   "source": [
    "# Your Code Here #\n"
   ]
  },
  {
   "cell_type": "markdown",
   "metadata": {},
   "source": [
    "<br>\n",
    "\n",
    "There are existing implementations for linear regression available for Python. For example, using the sklearn module's implementation, it would be:"
   ]
  },
  {
   "cell_type": "code",
   "execution_count": 11,
   "metadata": {},
   "outputs": [
    {
     "name": "stdout",
     "output_type": "stream",
     "text": [
      "The estimated value of theta 0 (the intercept of the line) is: 71270.49244872917\n",
      "The estimated value of theta 1 (the slope) is: 134.5252877202413\n",
      "The estimated price for a house with size = 3200 using the model would be: [501751.4131535]\n"
     ]
    }
   ],
   "source": [
    "import numpy as np\n",
    "from sklearn.linear_model import LinearRegression\n",
    "\n",
    "x = np.array(size).reshape(-1, 1)\n",
    "y = price\n",
    "\n",
    "reg = LinearRegression().fit(x, y)\n",
    "\n",
    "print('The estimated value of theta 0 (the intercept of the line) is: {0}'.format(reg.intercept_))\n",
    "print('The estimated value of theta 1 (the slope) is: {0}'.format(reg.coef_[0]))\n",
    "\n",
    "print('The estimated price for a house with size = 3200 using the model would be: {0}'.format(reg.predict([[3200]])))"
   ]
  },
  {
   "cell_type": "markdown",
   "metadata": {},
   "source": [
    "<br>\n",
    "\n",
    "<font color=blue>**Exercise:** Have a look at the help pages for the `LinearRegression()` function of `sklearn`, as well as a read of the help page of the function [https://scikit-learn.org/stable/modules/generated/sklearn.linear_model.LinearRegression.html](https://scikit-learn.org/stable/modules/generated/sklearn.linear_model.LinearRegression.html) </font>"
   ]
  },
  {
   "cell_type": "markdown",
   "metadata": {},
   "source": [
    "## 1.2 Writing our Gradient Descent in a more efficient way, and Multiple regression"
   ]
  },
  {
   "cell_type": "markdown",
   "metadata": {},
   "source": [
    "We will rewrite the gradient descent function, vectorising our variables and most of our for loops and including a stopping criterion that checks for convergence. Have a look at the explanatory notebook if you cannot understand how the following line works:\n",
    "\n",
    "`grad = np.dot(X.T , (np.dot(X,theta) - y)) / m;`\n",
    "\n",
    "Where `X` is the input (the Design Matrix) `y` is the vector column of the output, and `w` is a vector column of the parameters."
   ]
  },
  {
   "cell_type": "code",
   "execution_count": 12,
   "metadata": {},
   "outputs": [],
   "source": [
    "def GradientDescent_np(X, y, max_iterations=10000, lr=0.1, epsilon = 0.000001):\n",
    "    m, n = X.shape # number of samples, number of features\n",
    "    J = []\n",
    "\n",
    "    #initialize the weights to zero (or anything else you want, e.g. a small random value)\n",
    "    w = np.zeros(n)\n",
    "    \n",
    "    # Repeat until convergence (or max_iterations)\n",
    "    for iteration in range(max_iterations):\n",
    "        grad = np.dot(X.T , (np.dot(X, w) - y)) / m;\n",
    "        w = w - lr*grad\n",
    "        J.append(sum( (np.dot(X, w) - y)**2) / m)\n",
    "        \n",
    "        # Stopping Criterion\n",
    "        if (iteration > 2) and ( abs(J[-2] - J[-1]) < epsilon):\n",
    "            print (\"Gradient Descent converged after {} iterations\".format(iteration))\n",
    "            break\n",
    "    return w, J"
   ]
  },
  {
   "cell_type": "markdown",
   "metadata": {},
   "source": [
    "Let's use the new version of Gradient Descent to calculate the parameter values . In order to do so, we have to create our design matrix `X` and feed it to the function. As a reminder, the design matrix should have as many rows as samples and as many columns as features (including the \"fake\" $x_0$ feature of ones, that is multiplied with the bias term)."
   ]
  },
  {
   "cell_type": "code",
   "execution_count": 13,
   "metadata": {},
   "outputs": [
    {
     "name": "stdout",
     "output_type": "stream",
     "text": [
      "First few rows of our design matrix:\n",
      "[[1.000e+00 2.104e+03]\n",
      " [1.000e+00 1.600e+03]\n",
      " [1.000e+00 2.400e+03]\n",
      " [1.000e+00 1.416e+03]]\n",
      "First few rows of our normalised design matrix:\n",
      "[[ 1.          0.13000987]\n",
      " [ 1.         -0.50418984]\n",
      " [ 1.          0.50247636]\n",
      " [ 1.         -0.73572306]]\n",
      "Gradient Descent converged after 177 iterations\n",
      "Estimated weights: [340412.65713569 106907.56159506]\n"
     ]
    },
    {
     "data": {
      "image/png": "[encoded data removed]",
      "text/plain": [
       "<Figure size 432x288 with 1 Axes>"
      ]
     },
     "metadata": {
      "needs_background": "light"
     },
     "output_type": "display_data"
    }
   ],
   "source": [
    "#prepare the design matrix, starting with a column of ones (this is the x_0 for the bias term), and concatenating the size feature\n",
    "X = np.hstack( (np.ones(shape=(size.shape[0], 1)), size.reshape(size.shape[0], 1)))\n",
    "\n",
    "#Let's print out a few samples to verify we have done this right\n",
    "print(\"First few rows of our design matrix:\")\n",
    "print(X[0:4, :])\n",
    "\n",
    "# Scale features and set them to zero mean (standarize)\n",
    "mu = np.mean(X, 0) #calculate the mean for every column\n",
    "sigma = np.std(X, 0, ddof=1) #calculate the standard deviation for every column\n",
    "\n",
    "#normalize only X1. Do not normalise X0 (the artificial first feature that we set to ones)\n",
    "X[:,1] = (X[:,1] - mu[1]) / sigma[1];\n",
    "\n",
    "#Let's print out a few samples to verify we have done this right\n",
    "print(\"First few rows of our normalised design matrix:\")\n",
    "print(X[0:4, :])\n",
    "\n",
    "w, J = GradientDescent_np(X, price, lr=0.1)\n",
    "print('Estimated weights:', w)\n",
    "\n",
    "plt.plot(np.arange(len(J)), J, 'bo')\n",
    "plt.show()"
   ]
  },
  {
   "cell_type": "markdown",
   "metadata": {},
   "source": [
    "<font color=blue>**Exercise:** Do the same, but this time using the rooms feature as well</font>"
   ]
  },
  {
   "cell_type": "code",
   "execution_count": 14,
   "metadata": {},
   "outputs": [],
   "source": [
    "# Your Code Here #\n"
   ]
  },
  {
   "cell_type": "markdown",
   "metadata": {},
   "source": [
    "## 1.3 Polynomial Regression\n",
    "\n",
    "Suppose you are given the following samples for a problem:"
   ]
  },
  {
   "cell_type": "code",
   "execution_count": 15,
   "metadata": {},
   "outputs": [],
   "source": [
    "# This is a single feature, with 50 data points\n",
    "feat = np.array([ 3.69, -0.01,  3.92,  3.76,  4.77,  2.65, -3.2 , -3.68,  4.84,\n",
    "        2.35, -3.46,  3.36,  0.05, -2.43,  4.5 ,  2.99, -4.58, -2.38,\n",
    "        4.75, -0.99,  2.43,  1.03, -0.91,  0.49, -1.07, -4.56,  2.7 ,\n",
    "       -1.89, -4.46, -3.22,  4.11, -1.4 , -2.15, -3.08,  1.22,  4.15,\n",
    "       -3.32, -0.96,  2.28, -0.22,  1.63, -3.16,  0.57,  1.12,  0.46,\n",
    "       -4.42, -1.98, -4.59, -3.27,  3.77])\n",
    "\n",
    "# And this is the output for each of the 50 data points\n",
    "out = np.array([ -4.01526321,   4.91472839,  -6.45656423,  -2.62612898,\n",
    "        -8.51413128,   3.34151409,  12.88771229,  34.65904607,\n",
    "       -13.35431265,   4.30981981,  21.88485042,   1.12385015,\n",
    "        -2.91774249,  14.50057692,  -1.24198533,  -4.55757528,\n",
    "        45.46247156,   8.26033485, -17.30334323,  -9.70654351,\n",
    "       -11.24523311, -10.24578944,   2.52139723,   9.46442395,\n",
    "        -2.6732785 ,  47.77493771,  -1.3560507 ,  -3.87657515,\n",
    "        47.12672411,  19.07990287,  -0.9455647 ,   0.35427309,\n",
    "         9.80390966,  19.42353943,   3.11970979,   3.44865065,\n",
    "        21.42035593,  -7.88242488,   5.64544367,  10.20227577,\n",
    "        -0.62195752,  14.75901715,   9.12831525,   7.21057155,\n",
    "         4.53708356,  45.98559999,  -3.86594125,  50.79311745,\n",
    "        25.99250789,  -3.46524068])"
   ]
  },
  {
   "cell_type": "markdown",
   "metadata": {},
   "source": [
    "Let's make a plot of the above samples"
   ]
  },
  {
   "cell_type": "code",
   "execution_count": 16,
   "metadata": {},
   "outputs": [
    {
     "data": {
      "image/png": "[encoded data removed]",
      "text/plain": [
       "<Figure size 432x288 with 1 Axes>"
      ]
     },
     "metadata": {
      "needs_background": "light"
     },
     "output_type": "display_data"
    }
   ],
   "source": [
    "plt.plot(feat, out, 'ro') # Plot the feature versus the output, using big red circles\n",
    "plt.show()"
   ]
  },
  {
   "cell_type": "markdown",
   "metadata": {},
   "source": [
    "In order to use the linear gradient descent above to fit a polynomial, what we have to do is generate new features, from the existing ones. For example we could generate a new feature $feat_2$ and calculate its values as the square of $feat$: $feat_2 = feat^2$.\n",
    "\n",
    "Similarly we could create more new features like:\n",
    "\n",
    "$feat_3 = feat^3$\n",
    "\n",
    "$feat_4 = feat^4$\n",
    "\n",
    "$...$\n",
    "\n",
    "Let's create such new features. We will first define a helper function for that, that generates and normalises features up to the desired degree."
   ]
  },
  {
   "cell_type": "code",
   "execution_count": 17,
   "metadata": {},
   "outputs": [],
   "source": [
    "def map_feature_and_normalise(x, degree = 6, mu = None, sigma = None):\n",
    "    '''\n",
    "    Maps a single 1D feature to polynomial features up to the degree given\n",
    "    Returns a new feature vector comprising of [1, x, x^2, x^3, ..., x^degree]\n",
    "    If means and sigmas are passed, they are used for the normalisation, otherwise they are calculated from the data\n",
    "    '''\n",
    "    \n",
    "    x = x.reshape((x.size, 1)) #make into a vector if it has any other shape. The function size returns the number of elements in an array\n",
    "    out = np.ones(shape=(x.shape[0], 1))\n",
    "    \n",
    "    for i in range(1, degree + 1):\n",
    "            r = (x ** i)\n",
    "            out = np.append(out, r, axis=1)\n",
    "\n",
    "    # Normalise the newly created features\n",
    "    if not isinstance(mu, np.ndarray): # This basically asks \"if (mu == None)\", but in a way that it would work also in the case that mu is an array\n",
    "        mu = np.mean(out, 0) #calculate the mean for every column\n",
    "    if not isinstance(sigma, np.ndarray):\n",
    "        sigma = np.std(out, 0, ddof=1) #calculate the standard deviation for every column\n",
    "\n",
    "    # Scale features and set them to zero mean (standarize)\n",
    "    # Normalize everything except X0 (the artificial first feature that we set to ones)\n",
    "    for i in range(1, out.shape[1]):\n",
    "        out[:,i] = (out[:,i] - mu[i]) / sigma[i];\n",
    "\n",
    "    return out, mu, sigma"
   ]
  },
  {
   "cell_type": "markdown",
   "metadata": {},
   "source": [
    "Let's try it out, by creating new features up to degree `deg` out of our single feature `feat`. What we expect to get in the output is $deg+1$ features, as we are also counting the feature $x_0$"
   ]
  },
  {
   "cell_type": "code",
   "execution_count": 18,
   "metadata": {},
   "outputs": [
    {
     "name": "stdout",
     "output_type": "stream",
     "text": [
      "The shape of our design matrix is: (50, 7)\n",
      "The shape of mu (and sigma) is: (7,)\n"
     ]
    }
   ],
   "source": [
    "deg = 6\n",
    "X, mu, sigma = map_feature_and_normalise(feat, deg)\n",
    "\n",
    "print(\"The shape of our design matrix is:\", X.shape)\n",
    "print(\"The shape of mu (and sigma) is:\", mu.shape)"
   ]
  },
  {
   "cell_type": "markdown",
   "metadata": {},
   "source": [
    "Let's now use our gradient descent function to fit a 2-degree polynomial model to the same data. To do this, we should pass to the function the set of features up to the power of 2, so our design matrix would comprise three features: $[1, feat, feat^2]$"
   ]
  },
  {
   "cell_type": "code",
   "execution_count": 19,
   "metadata": {},
   "outputs": [
    {
     "name": "stdout",
     "output_type": "stream",
     "text": [
      "Gradient Descent converged after 46 iterations\n",
      "Estimated weights: [  7.84508161 -13.60617806   7.01741506]\n"
     ]
    },
    {
     "data": {
      "text/plain": [
       "[<matplotlib.lines.Line2D at 0x1aaea0c3f88>]"
      ]
     },
     "execution_count": 19,
     "metadata": {},
     "output_type": "execute_result"
    },
    {
     "data": {
      "image/png": "[encoded data removed]",
      "text/plain": [
       "<Figure size 432x288 with 1 Axes>"
      ]
     },
     "metadata": {
      "needs_background": "light"
     },
     "output_type": "display_data"
    },
    {
     "data": {
      "image/png": "[encoded data removed]",
      "text/plain": [
       "<Figure size 432x288 with 1 Axes>"
      ]
     },
     "metadata": {
      "needs_background": "light"
     },
     "output_type": "display_data"
    }
   ],
   "source": [
    "deg = 2\n",
    "X, mu, sigma = map_feature_and_normalise(feat, deg)\n",
    "\n",
    "w, J = GradientDescent_np(X, out, lr=0.2)\n",
    "print('Estimated weights:', w)  # Since we passed it three features, we expect to receive values for three weights\n",
    "\n",
    "#Plot the evolution of the cost\n",
    "plt.plot(np.arange(len(J)), J, 'bo')  # To plot the evolution of the Cost (J) we use as x a list of numbers from 1 to the number of elements inside J, and as y the values in J\n",
    "\n",
    "# Plot line y = theta_0 + theta_1 * x + theta_2 * x^2\n",
    "plt.figure() # We first create a new figure, otherwise it will include this plot in the previous one\n",
    "plt.plot(feat, out, 'ro') # Here we plot the original feature vs out of our data as big red circles\n",
    "\n",
    "# To plot our solution, we need to use the weights we have been given and calculate our estimated output for a series of points\n",
    "xx = np.arange(min(feat), max(feat), 0.1) # Let's first define a series of points: from the minimum value of the original feature to the maximum value, every 0.1\n",
    "\n",
    "# Now for each of our points in the range defined above, we need to calculate what our model gives us\n",
    "# IMPORTANT: our model does not map features to out, it maps NORMALISED features to out. So we need to normalise everything (except x_0) IN THE SAME WAY before we can pass it through the model\n",
    "yy = w[0] * np.ones_like(xx) # treat the bias outside the loop, as we do not want to normalise the fake feature x_0 (column of ones) associated with the bias like the rest\n",
    "for i in range(1, X.shape[1]):\n",
    "    yy += w[i] * (xx**i-mu[i])/sigma[i]\n",
    "\n",
    "plt.plot(xx, yy, 'g') # Now we can plot our points in the range vs the estimated value calculated by our model, connected by a green line"
   ]
  },
  {
   "cell_type": "markdown",
   "metadata": {},
   "source": [
    "<font color=blue>**Exercise:** What is the final cost value of the above fit?</font>"
   ]
  },
  {
   "cell_type": "code",
   "execution_count": 20,
   "metadata": {},
   "outputs": [],
   "source": [
    "#Your Code Here#\n"
   ]
  },
  {
   "cell_type": "markdown",
   "metadata": {},
   "source": [
    "<font color=blue>**Exercise:** Can you fit a 15-degree polynomial? What is the final cost value in this case?</font>"
   ]
  },
  {
   "cell_type": "code",
   "execution_count": 21,
   "metadata": {},
   "outputs": [],
   "source": [
    "#Your Code Here#\n"
   ]
  },
  {
   "cell_type": "markdown",
   "metadata": {},
   "source": [
    "<font color=blue>**Exercise:** Fit polynomials of all degrees from 0 to 15 and plot the evolution of the final cost (at convergence) with respect to the degree of the model.</font>"
   ]
  },
  {
   "cell_type": "code",
   "execution_count": 22,
   "metadata": {},
   "outputs": [],
   "source": [
    "#Your Code Here#\n"
   ]
  },
  {
   "cell_type": "markdown",
   "metadata": {},
   "source": [
    "<font color=blue>**Exercise:** Add regularisation to our Gradient Descent algorithm and run gradient descent with a polynomial of degree 15 again. What do you observe?</font>"
   ]
  },
  {
   "cell_type": "code",
   "execution_count": 23,
   "metadata": {},
   "outputs": [],
   "source": [
    "#Your Code Here#\n"
   ]
  },
  {
   "cell_type": "markdown",
   "metadata": {},
   "source": [
    "---\n",
    "\n",
    "*Answer*\n",
    "\n",
    "...\n",
    "\n",
    "---\n"
   ]
  },
  {
   "cell_type": "markdown",
   "metadata": {},
   "source": [
    "## 1.4 Logistic Regression"
   ]
  },
  {
   "cell_type": "markdown",
   "metadata": {},
   "source": [
    "We are given a synthetic dataset comrpising of m samples of two features each, that correspond to either of two classes $[0, 1]$. First load the data and plot it."
   ]
  },
  {
   "cell_type": "code",
   "execution_count": 24,
   "metadata": {},
   "outputs": [
    {
     "name": "stdout",
     "output_type": "stream",
     "text": [
      "# Samples, # Features: (117, 2)\n",
      "# target outputs: (117,)\n"
     ]
    }
   ],
   "source": [
    "# Load the provided dataset\n",
    "import pickle\n",
    "\n",
    "with open('./LogisticData.pkl', 'rb') as f:\n",
    "    (X,y) = pickle.load(f, encoding='latin1')\n",
    "\n",
    "print (\"# Samples, # Features:\", X.shape)\n",
    "print (\"# target outputs:\", y.shape)"
   ]
  },
  {
   "cell_type": "code",
   "execution_count": 25,
   "metadata": {
    "collapsed": false,
    "jupyter": {
     "outputs_hidden": false
    }
   },
   "outputs": [
    {
     "data": {
      "image/png": "[encoded data removed]",
      "text/plain": [
       "<Figure size 432x288 with 1 Axes>"
      ]
     },
     "metadata": {
      "needs_background": "light"
     },
     "output_type": "display_data"
    }
   ],
   "source": [
    "# Plot the data\n",
    "plt.scatter(X[y==1, 0], X[y==1, 1], marker='o', c='b') #positive samples\n",
    "plt.scatter(X[y==0, 0], X[y==0, 1], marker='x', c='r') #negative samples\n",
    "plt.show()"
   ]
  },
  {
   "cell_type": "markdown",
   "metadata": {},
   "source": [
    "We are going train a binary classifier using the Logistic Regression model: $f_w(\\textbf{x}) = \\frac{1}{1+e^{-w^\\intercal \\textbf{x}}}$\n",
    "\n",
    "For this we need to fit the parameters $w$ to our dataset by minimizing the cost function $J$:\n",
    "\n",
    "$\\hat{w} = \\underset{w}{\\text{minimize}} {1 \\over m} \\sum_{i=1}^m{-y^{(i)}\\log(f_w(x^{(i)}) - (1-y^{(i)})\\log(1-f_w(x^{(i)})}$\n",
    "\n",
    "where $(x^{(i)},y^{(i)})$ is the i-th training sample, and $m$ is the number of samples in the training set.\n",
    "\n",
    "We are going to use the Gradient Descent algorithm to solve this minimization problem, in pseudo-code:\n",
    "\n",
    "repeat until convergence (or max. number of iterations) \n",
    "\n",
    "{\n",
    "\n",
    "$w_j := w_j - \\alpha \\frac{\\partial}{\\partial w_j} J(w)$ (for all j)\n",
    "\n",
    "}\n",
    "\n",
    "where $\\alpha$ is the learning rate, and the partial derivative (the gradient) of the cost function is given by:\n",
    "\n",
    "$\\frac{\\partial}{\\partial w_j} J(w) = {1 \\over m} \\sum_{i=1}^m{(f_w(x^{(i)}) - y^{(i)}) x_j^{(i)}}$\n",
    "\n",
    "Notice that the partial derivative of our cost function has the same form as for the Linear Regression cost function, however the difference is in the term $f_w(\\textbf{x})$, our model. In the case of Logistic Regression $f_w(\\textbf{x})$ is the sigmoid function of $w^\\intercal \\textbf{x}$.\n",
    "\n",
    "Thus, the Python code of our **GradientDescent** function is going to be quite the same as for Linear Regression, but calling the **sigmoid** function to evaluate the Logistic Regression model $f_w(\\textbf{x})$."
   ]
  },
  {
   "cell_type": "code",
   "execution_count": 26,
   "metadata": {
    "collapsed": false,
    "jupyter": {
     "outputs_hidden": false
    }
   },
   "outputs": [],
   "source": [
    "import numpy as np\n",
    "\n",
    "def sigmoid(X):\n",
    "    '''\n",
    "    Computes the Sigmoid function of the input argument X.\n",
    "    '''\n",
    "    return 1.0/(1+np.exp(-X))\n",
    "\n",
    "\n",
    "def GradientDescent_logistic(X, y, max_iterations=10000, lr=0.1, epsilon = 0.0000001):\n",
    "    '''\n",
    "    Gradient descent function for logistic regression without regularisation.\n",
    "    X is the design matrix, y is the target outputs (in this case it should have values of either 0 or 1)\n",
    "    '''    \n",
    "    m, n = X.shape # number of samples, number of features\n",
    "    J = []\n",
    "    \n",
    "    #initialize the parameters\n",
    "    w = np.zeros(n)\n",
    "    \n",
    "    # Repeat until convergence (or max_iterations)\n",
    "    for iteration in range(max_iterations):\n",
    "        f = sigmoid(np.dot(X, w))\n",
    "        error = (f-y)\n",
    "        gradient = np.dot(X.T , error) / m\n",
    "        w = w - lr*gradient\n",
    "        \n",
    "        J.append(sum(-y * np.log(f) - (1-y) * np.log(1-f)) / m)\n",
    "        \n",
    "        # Stopping Criterion\n",
    "        if (iteration > 2) and ( abs(J[-2] - J[-1]) < epsilon):\n",
    "            print (\"Gradient Descent converged after {} iterations\".format(iteration))\n",
    "            break\n",
    "        \n",
    "    return w, J\n",
    "\n",
    "\n",
    "def classifyVector(X, w):\n",
    "    '''\n",
    "    Evaluate the Logistic Regression model h(x) with theta parameters,\n",
    "    and returns the predicted label of x.\n",
    "    '''\n",
    "    prob = np.sign(np.dot(X, w))\n",
    "    prob[prob == -1] = 0 # We use zero for the second class, not -1\n",
    "    return prob"
   ]
  },
  {
   "cell_type": "markdown",
   "metadata": {},
   "source": [
    "Now, we train the Logistic Regression classifier and draw its decision boundary in a 2D plot."
   ]
  },
  {
   "cell_type": "code",
   "execution_count": 27,
   "metadata": {
    "collapsed": false,
    "jupyter": {
     "outputs_hidden": false
    }
   },
   "outputs": [
    {
     "name": "stdout",
     "output_type": "stream",
     "text": [
      "Gradient Descent converged after 477 iterations\n",
      "Estimated weights: [-0.00167667 -0.25101695 -0.01889087]\n",
      "Training Accuracy : 0.5470085470085471\n"
     ]
    },
    {
     "data": {
      "image/png": "[encoded data removed]",
      "text/plain": [
       "<Figure size 432x288 with 1 Axes>"
      ]
     },
     "metadata": {
      "needs_background": "light"
     },
     "output_type": "display_data"
    },
    {
     "data": {
      "image/png": "[encoded data removed]",
      "text/plain": [
       "<Figure size 432x288 with 1 Axes>"
      ]
     },
     "metadata": {
      "needs_background": "light"
     },
     "output_type": "display_data"
    }
   ],
   "source": [
    "# Number of samples, number of features given\n",
    "m, n = X.shape\n",
    "\n",
    "# Append the x_0 column (for the bias term theta_0)\n",
    "x = np.ones(shape=(m, 1))\n",
    "Xaugmented = np.append(x, X, axis=1) #The Design Matrix, which is the original data augmented with the first column of ones\n",
    "\n",
    "#Logistic Regression gradient descent optimization\n",
    "w, J = GradientDescent_logistic(Xaugmented, y)\n",
    "print (\"Estimated weights:\", w)\n",
    "\n",
    "#Plot the evolution of the cost\n",
    "plt.plot(np.arange(len(J)), J, 'bo')  # To plot the evolution of the Cost (J) we use as x a list of numbers from 1 to the number of elements inside J, and as y the values in J\n",
    "\n",
    "#Evaluate the classifier accuracy in the training data\n",
    "out = classifyVector(Xaugmented, w)\n",
    "print (\"Training Accuracy :\", float(np.sum(out == y)) / m)\n",
    "\n",
    "#Plot data\n",
    "plt.figure()\n",
    "plt.scatter(X[y==1, 0], X[y==1, 1], marker='o', c='b') #positive samples\n",
    "plt.scatter(X[y==0, 0], X[y==0, 1], marker='x', c='r') #negative samples\n",
    "\n",
    "#Plot Decision Boundary\n",
    "u = np.linspace(-1, 1.5, 50)\n",
    "v = np.linspace(-1, 1.5, 50)\n",
    "z = np.zeros(shape=(len(u), len(v)))\n",
    "for i in range(len(u)):\n",
    "    for j in range(len(v)):\n",
    "        z[i, j] = sigmoid(np.dot(np.array([1,u[i],v[j]]),w))\n",
    "\n",
    "z = z.T\n",
    "\n",
    "cs = plt.contour(u, v, z, levels=[0.5])\n",
    "plt.clabel(cs, inline=1, fontsize=10)\n",
    "plt.show()"
   ]
  },
  {
   "cell_type": "markdown",
   "metadata": {},
   "source": [
    "As can be seen in the previous plot the classification boundary with 2 features fits very poorly our data.\n",
    "\n",
    "One way to fit the data better is to create more features from each data point. We will map the features into all polynomial terms of $x_1$ and $x_2$ up to the $deg$ power. \n",
    "\n",
    "$MapFeature(x_1,x_2) = [1, x_1,x_2,x_1^2,x_1x_2,x_2^2,x_1^3, \\dots , x_1x_2^{(deg-1)}, x_2^{(deg)}]$\n",
    "\n",
    "The Logistic Regression classifier trained on such high dimensional feature spaces will have a more complex decision boundary (i.e. more degrees of freedom) and will appear nonlinear when drawn in the 2D plot."
   ]
  },
  {
   "cell_type": "code",
   "execution_count": 28,
   "metadata": {
    "collapsed": false,
    "jupyter": {
     "outputs_hidden": false
    }
   },
   "outputs": [],
   "source": [
    "def map_two_features_and_normalise(x1, x2, degree, mu = None, sigma = None):\n",
    "    '''\n",
    "    Maps 2D features to quadratic features.\n",
    "    Returns a new feature vector with more features, comprising of out = [x1, x2, x1^2, x2^2, x1*x2, x1*x2^2, ...]\n",
    "    If provided, it uses the means and sigmas to normalise the new features, otherwise it calculates the means and sigmas from the data\n",
    "    '''\n",
    "    \n",
    "    x1.shape = (x1.size, 1)\n",
    "    x2.shape = (x2.size, 1)\n",
    "    out = np.ones(shape=(x1[:, 0].size, 1))\n",
    "        \n",
    "    for i in range(1, degree + 1):\n",
    "        for j in range(i + 1):\n",
    "            r = (x1 ** (i - j)) * (x2 ** j)\n",
    "            out = np.append(out, r, axis=1)\n",
    "\n",
    "    # Normalise the newly created features\n",
    "    if not isinstance(mu, np.ndarray): #calculate\n",
    "        mu = np.mean(out, 0) #calculate the mean for every column\n",
    "    if not isinstance(sigma, np.ndarray):\n",
    "        sigma = np.std(out, 0, ddof=1) #calculate the standard deviation for every column\n",
    "\n",
    "    # Scale features and set them to zero mean (standarize)\n",
    "    # normalize everything except X0 (the artificial first feature that we set to ones)\n",
    "    for i in range(1, out.shape[1]):\n",
    "        out[:,i] = (out[:,i] - mu[i]) / sigma[i];\n",
    "\n",
    "    return out, mu, sigma"
   ]
  },
  {
   "cell_type": "markdown",
   "metadata": {},
   "source": [
    "Let's try it out for degree = 3. We expect to get an output of 10 features: $[1, x_1, x_2, x_1^2, x_1x_2, x_2^2, x_1^3, x_1^2x_2, x_1x_2^2, x_2^3]$"
   ]
  },
  {
   "cell_type": "code",
   "execution_count": 29,
   "metadata": {},
   "outputs": [
    {
     "name": "stdout",
     "output_type": "stream",
     "text": [
      "output has shape: (117, 10)\n",
      "Mean (and Sigma) has shape (10,)\n"
     ]
    }
   ],
   "source": [
    "deg = 3\n",
    "features, mu, sigma = map_two_features_and_normalise(X[:,0], X[:,1], degree = deg)\n",
    "print(\"output has shape:\", features.shape) # Should be m rows (equal to the number of data points) and 10 rows (equal to the number of features)\n",
    "print(\"Mean (and Sigma) has shape\", mu.shape)"
   ]
  },
  {
   "cell_type": "markdown",
   "metadata": {},
   "source": [
    "Now we will use these new features to do logistic regression"
   ]
  },
  {
   "cell_type": "code",
   "execution_count": 30,
   "metadata": {
    "collapsed": false,
    "jupyter": {
     "outputs_hidden": false
    }
   },
   "outputs": [
    {
     "name": "stdout",
     "output_type": "stream",
     "text": [
      "Gradient Descent converged after 5290 iterations\n",
      "Training Accuracy : 0.8547008547008547\n"
     ]
    }
   ],
   "source": [
    "deg = 3\n",
    "features, mu, sigma = map_two_features_and_normalise(X[:,0], X[:,1], degree = deg)\n",
    "\n",
    "#Logistic Regression gradient descent optimization\n",
    "w, J = GradientDescent_logistic(features, y)\n",
    "\n",
    "out = classifyVector(features, w)\n",
    "print (\"Training Accuracy :\", float(np.sum(out == y)) / m)"
   ]
  },
  {
   "cell_type": "code",
   "execution_count": 31,
   "metadata": {
    "collapsed": false,
    "jupyter": {
     "outputs_hidden": false
    }
   },
   "outputs": [
    {
     "data": {
      "image/png": "[encoded data removed]",
      "text/plain": [
       "<Figure size 432x288 with 1 Axes>"
      ]
     },
     "metadata": {
      "needs_background": "light"
     },
     "output_type": "display_data"
    }
   ],
   "source": [
    "#Plot data\n",
    "plt.scatter(X[y==1, 0], X[y==1, 1], marker='o', c='b') #positive samples\n",
    "plt.scatter(X[y==0, 0], X[y==0, 1], marker='x', c='r') #negative samples\n",
    "\n",
    "#Plot Boundary\n",
    "u = np.linspace(np.min(X[:,0]), np.max(X[:,0]), 40)\n",
    "v = np.linspace(np.min(X[:,1]), np.max(X[:,1]), 40)\n",
    "z = np.zeros(shape=(len(u), len(v)))\n",
    "for i in range(len(u)):\n",
    "    for j in range(len(v)):\n",
    "        feature, _, _ = map_two_features_and_normalise(np.array(u[i]),np.array(v[j]), mu=mu, sigma=sigma, degree = deg)\n",
    "        z[i, j] = sigmoid(feature.dot(w))\n",
    "        \n",
    "z = z.T\n",
    "cs = plt.contour(u, v, z, levels=[0.5])\n",
    "plt.clabel(cs, inline=1, fontsize=10)\n",
    "plt.show()"
   ]
  },
  {
   "cell_type": "markdown",
   "metadata": {},
   "source": [
    "<font color=blue>**Exercise:** Generate features of different degrees, up to degree 15 and run gradient descent. What do you observe?</font>"
   ]
  },
  {
   "cell_type": "code",
   "execution_count": 32,
   "metadata": {},
   "outputs": [],
   "source": [
    "# Your Code Here#\n"
   ]
  },
  {
   "cell_type": "markdown",
   "metadata": {},
   "source": [
    "---\n",
    "\n",
    "*Answer*\n",
    "\n",
    "...\n",
    "\n",
    "---\n"
   ]
  },
  {
   "cell_type": "markdown",
   "metadata": {},
   "source": [
    "<font color=blue>**Exercise:** Add regularisation to our Gradient Descent algorithm and run gradient descent with features of degree up to 15. What do you observe?</font>"
   ]
  },
  {
   "cell_type": "code",
   "execution_count": 33,
   "metadata": {},
   "outputs": [],
   "source": [
    "# Your Code Here # \n"
   ]
  },
  {
   "cell_type": "markdown",
   "metadata": {},
   "source": [
    "---\n",
    "\n",
    "*Answer*\n",
    "\n",
    "...\n",
    "\n",
    "---\n"
   ]
  },
  {
   "cell_type": "code",
   "execution_count": null,
   "metadata": {},
   "outputs": [],
   "source": []
  }
 ],
 "metadata": {
  "kernelspec": {
   "display_name": "Python 3",
   "language": "python",
   "name": "python3"
  },
  "language_info": {
   "codemirror_mode": {
    "name": "ipython",
    "version": 3
   },
   "file_extension": ".py",
   "mimetype": "text/x-python",
   "name": "python",
   "nbconvert_exporter": "python",
   "pygments_lexer": "ipython3",
   "version": "3.7.9"
  }
 },
 "nbformat": 4,
 "nbformat_minor": 4
}
